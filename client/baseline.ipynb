{
 "cells": [
  {
   "cell_type": "code",
   "execution_count": 2,
   "outputs": [],
   "source": [
    "import pandas as pd\n",
    "import numpy as np\n",
    "import os"
   ],
   "metadata": {
    "collapsed": false,
    "pycharm": {
     "name": "#%%\n"
    }
   }
  },
  {
   "cell_type": "code",
   "execution_count": 3,
   "outputs": [],
   "source": [
    "basepath = os.getcwd()\n",
    "basepath = os.path.join(basepath, 'Desktop/limwb/motor_vib/client/')"
   ],
   "metadata": {
    "collapsed": false,
    "pycharm": {
     "name": "#%%\n"
    }
   }
  },
  {
   "cell_type": "code",
   "execution_count": 4,
   "outputs": [],
   "source": [
    "df = pd.read_parquet(basepath + 'df.parquet')"
   ],
   "metadata": {
    "collapsed": false,
    "pycharm": {
     "name": "#%%\n"
    }
   }
  },
  {
   "cell_type": "code",
   "execution_count": 5,
   "outputs": [
    {
     "data": {
      "text/plain": "   acc_x  acc_y  acc_z  gyr_x  gyr_y  gyr_z  ang_x  ang_y  ang_z  seq\n0  0.036  0.118  1.015  -0.69  -2.61  -0.33   5.97  -2.01  62.99    0\n1 -0.030  0.105  0.979  -0.45  -1.10   0.67   5.75  -1.59  63.00    0\n2 -0.079  0.160  1.009  -0.66  -0.96   0.64   5.76  -1.59  63.00    1\n3 -0.062  0.101  1.087  -0.44  -3.06   0.61   5.76  -1.60  63.00    2\n4  0.042  0.100  1.019  -0.25   0.72  -0.65   5.75  -1.61  63.00    3",
      "text/html": "<div>\n<style scoped>\n    .dataframe tbody tr th:only-of-type {\n        vertical-align: middle;\n    }\n\n    .dataframe tbody tr th {\n        vertical-align: top;\n    }\n\n    .dataframe thead th {\n        text-align: right;\n    }\n</style>\n<table border=\"1\" class=\"dataframe\">\n  <thead>\n    <tr style=\"text-align: right;\">\n      <th></th>\n      <th>acc_x</th>\n      <th>acc_y</th>\n      <th>acc_z</th>\n      <th>gyr_x</th>\n      <th>gyr_y</th>\n      <th>gyr_z</th>\n      <th>ang_x</th>\n      <th>ang_y</th>\n      <th>ang_z</th>\n      <th>seq</th>\n    </tr>\n  </thead>\n  <tbody>\n    <tr>\n      <th>0</th>\n      <td>0.036</td>\n      <td>0.118</td>\n      <td>1.015</td>\n      <td>-0.69</td>\n      <td>-2.61</td>\n      <td>-0.33</td>\n      <td>5.97</td>\n      <td>-2.01</td>\n      <td>62.99</td>\n      <td>0</td>\n    </tr>\n    <tr>\n      <th>1</th>\n      <td>-0.030</td>\n      <td>0.105</td>\n      <td>0.979</td>\n      <td>-0.45</td>\n      <td>-1.10</td>\n      <td>0.67</td>\n      <td>5.75</td>\n      <td>-1.59</td>\n      <td>63.00</td>\n      <td>0</td>\n    </tr>\n    <tr>\n      <th>2</th>\n      <td>-0.079</td>\n      <td>0.160</td>\n      <td>1.009</td>\n      <td>-0.66</td>\n      <td>-0.96</td>\n      <td>0.64</td>\n      <td>5.76</td>\n      <td>-1.59</td>\n      <td>63.00</td>\n      <td>1</td>\n    </tr>\n    <tr>\n      <th>3</th>\n      <td>-0.062</td>\n      <td>0.101</td>\n      <td>1.087</td>\n      <td>-0.44</td>\n      <td>-3.06</td>\n      <td>0.61</td>\n      <td>5.76</td>\n      <td>-1.60</td>\n      <td>63.00</td>\n      <td>2</td>\n    </tr>\n    <tr>\n      <th>4</th>\n      <td>0.042</td>\n      <td>0.100</td>\n      <td>1.019</td>\n      <td>-0.25</td>\n      <td>0.72</td>\n      <td>-0.65</td>\n      <td>5.75</td>\n      <td>-1.61</td>\n      <td>63.00</td>\n      <td>3</td>\n    </tr>\n  </tbody>\n</table>\n</div>"
     },
     "execution_count": 5,
     "metadata": {},
     "output_type": "execute_result"
    }
   ],
   "source": [
    "df.head(5)"
   ],
   "metadata": {
    "collapsed": false,
    "pycharm": {
     "name": "#%%\n"
    }
   }
  },
  {
   "cell_type": "code",
   "execution_count": 8,
   "outputs": [],
   "source": [
    "df.drop(['seq'], axis=1, inplace=True)"
   ],
   "metadata": {
    "collapsed": false,
    "pycharm": {
     "name": "#%%\n"
    }
   }
  },
  {
   "cell_type": "code",
   "execution_count": 9,
   "outputs": [
    {
     "data": {
      "text/plain": "               acc_x          acc_y          acc_z          gyr_x  \\\ncount  150625.000000  150625.000000  150625.000000  150625.000000   \nmean        0.030342       0.099613       0.994064       0.001519   \nstd         0.054216       0.027184       0.039594       0.503047   \nmin        -0.142000      -0.029000       0.806000      -2.080000   \n25%        -0.016000       0.082000       0.967000      -0.350000   \n50%         0.031000       0.100000       0.994000       0.000000   \n75%         0.077000       0.118000       1.021000       0.350000   \nmax         0.210000       0.223000       1.185000       2.110000   \n\n               gyr_y          gyr_z          ang_x          ang_y  \\\ncount  150625.000000  150625.000000  150625.000000  150625.000000   \nmean        0.910057       0.008608       5.737767       3.839943   \nstd         1.154835       0.455325       0.084946       1.263974   \nmin        -3.630000      -2.000000       5.490000      -2.010000   \n25%        -0.070000      -0.300000       5.680000       3.070000   \n50%         0.990000       0.000000       5.720000       3.800000   \n75%         1.880000       0.310000       5.780000       4.590000   \nmax         4.460000       2.100000       6.120000       8.370000   \n\n               ang_z  \ncount  150625.000000  \nmean       -0.033435  \nstd       110.133632  \nmin      -180.000000  \n25%      -104.180000  \n50%         4.730000  \n75%        96.600000  \nmax       180.000000  ",
      "text/html": "<div>\n<style scoped>\n    .dataframe tbody tr th:only-of-type {\n        vertical-align: middle;\n    }\n\n    .dataframe tbody tr th {\n        vertical-align: top;\n    }\n\n    .dataframe thead th {\n        text-align: right;\n    }\n</style>\n<table border=\"1\" class=\"dataframe\">\n  <thead>\n    <tr style=\"text-align: right;\">\n      <th></th>\n      <th>acc_x</th>\n      <th>acc_y</th>\n      <th>acc_z</th>\n      <th>gyr_x</th>\n      <th>gyr_y</th>\n      <th>gyr_z</th>\n      <th>ang_x</th>\n      <th>ang_y</th>\n      <th>ang_z</th>\n    </tr>\n  </thead>\n  <tbody>\n    <tr>\n      <th>count</th>\n      <td>150625.000000</td>\n      <td>150625.000000</td>\n      <td>150625.000000</td>\n      <td>150625.000000</td>\n      <td>150625.000000</td>\n      <td>150625.000000</td>\n      <td>150625.000000</td>\n      <td>150625.000000</td>\n      <td>150625.000000</td>\n    </tr>\n    <tr>\n      <th>mean</th>\n      <td>0.030342</td>\n      <td>0.099613</td>\n      <td>0.994064</td>\n      <td>0.001519</td>\n      <td>0.910057</td>\n      <td>0.008608</td>\n      <td>5.737767</td>\n      <td>3.839943</td>\n      <td>-0.033435</td>\n    </tr>\n    <tr>\n      <th>std</th>\n      <td>0.054216</td>\n      <td>0.027184</td>\n      <td>0.039594</td>\n      <td>0.503047</td>\n      <td>1.154835</td>\n      <td>0.455325</td>\n      <td>0.084946</td>\n      <td>1.263974</td>\n      <td>110.133632</td>\n    </tr>\n    <tr>\n      <th>min</th>\n      <td>-0.142000</td>\n      <td>-0.029000</td>\n      <td>0.806000</td>\n      <td>-2.080000</td>\n      <td>-3.630000</td>\n      <td>-2.000000</td>\n      <td>5.490000</td>\n      <td>-2.010000</td>\n      <td>-180.000000</td>\n    </tr>\n    <tr>\n      <th>25%</th>\n      <td>-0.016000</td>\n      <td>0.082000</td>\n      <td>0.967000</td>\n      <td>-0.350000</td>\n      <td>-0.070000</td>\n      <td>-0.300000</td>\n      <td>5.680000</td>\n      <td>3.070000</td>\n      <td>-104.180000</td>\n    </tr>\n    <tr>\n      <th>50%</th>\n      <td>0.031000</td>\n      <td>0.100000</td>\n      <td>0.994000</td>\n      <td>0.000000</td>\n      <td>0.990000</td>\n      <td>0.000000</td>\n      <td>5.720000</td>\n      <td>3.800000</td>\n      <td>4.730000</td>\n    </tr>\n    <tr>\n      <th>75%</th>\n      <td>0.077000</td>\n      <td>0.118000</td>\n      <td>1.021000</td>\n      <td>0.350000</td>\n      <td>1.880000</td>\n      <td>0.310000</td>\n      <td>5.780000</td>\n      <td>4.590000</td>\n      <td>96.600000</td>\n    </tr>\n    <tr>\n      <th>max</th>\n      <td>0.210000</td>\n      <td>0.223000</td>\n      <td>1.185000</td>\n      <td>2.110000</td>\n      <td>4.460000</td>\n      <td>2.100000</td>\n      <td>6.120000</td>\n      <td>8.370000</td>\n      <td>180.000000</td>\n    </tr>\n  </tbody>\n</table>\n</div>"
     },
     "execution_count": 9,
     "metadata": {},
     "output_type": "execute_result"
    }
   ],
   "source": [
    "df.describe()"
   ],
   "metadata": {
    "collapsed": false,
    "pycharm": {
     "name": "#%%\n"
    }
   }
  },
  {
   "cell_type": "code",
   "execution_count": 10,
   "outputs": [],
   "source": [
    "from sklearn.svm import OneClassSVM"
   ],
   "metadata": {
    "collapsed": false,
    "pycharm": {
     "name": "#%%\n"
    }
   }
  },
  {
   "cell_type": "code",
   "execution_count": 11,
   "outputs": [],
   "source": [
    "X_train = df.iloc[:int(len(df)*0.8)]\n",
    "X_test = df.iloc[int(len(df)*0.8):]"
   ],
   "metadata": {
    "collapsed": false,
    "pycharm": {
     "name": "#%%\n"
    }
   }
  },
  {
   "cell_type": "code",
   "execution_count": 12,
   "outputs": [
    {
     "data": {
      "text/plain": "OneClassSVM(gamma=1e-05, nu=0.01)",
      "text/html": "<style>#sk-container-id-1 {color: black;background-color: white;}#sk-container-id-1 pre{padding: 0;}#sk-container-id-1 div.sk-toggleable {background-color: white;}#sk-container-id-1 label.sk-toggleable__label {cursor: pointer;display: block;width: 100%;margin-bottom: 0;padding: 0.3em;box-sizing: border-box;text-align: center;}#sk-container-id-1 label.sk-toggleable__label-arrow:before {content: \"▸\";float: left;margin-right: 0.25em;color: #696969;}#sk-container-id-1 label.sk-toggleable__label-arrow:hover:before {color: black;}#sk-container-id-1 div.sk-estimator:hover label.sk-toggleable__label-arrow:before {color: black;}#sk-container-id-1 div.sk-toggleable__content {max-height: 0;max-width: 0;overflow: hidden;text-align: left;background-color: #f0f8ff;}#sk-container-id-1 div.sk-toggleable__content pre {margin: 0.2em;color: black;border-radius: 0.25em;background-color: #f0f8ff;}#sk-container-id-1 input.sk-toggleable__control:checked~div.sk-toggleable__content {max-height: 200px;max-width: 100%;overflow: auto;}#sk-container-id-1 input.sk-toggleable__control:checked~label.sk-toggleable__label-arrow:before {content: \"▾\";}#sk-container-id-1 div.sk-estimator input.sk-toggleable__control:checked~label.sk-toggleable__label {background-color: #d4ebff;}#sk-container-id-1 div.sk-label input.sk-toggleable__control:checked~label.sk-toggleable__label {background-color: #d4ebff;}#sk-container-id-1 input.sk-hidden--visually {border: 0;clip: rect(1px 1px 1px 1px);clip: rect(1px, 1px, 1px, 1px);height: 1px;margin: -1px;overflow: hidden;padding: 0;position: absolute;width: 1px;}#sk-container-id-1 div.sk-estimator {font-family: monospace;background-color: #f0f8ff;border: 1px dotted black;border-radius: 0.25em;box-sizing: border-box;margin-bottom: 0.5em;}#sk-container-id-1 div.sk-estimator:hover {background-color: #d4ebff;}#sk-container-id-1 div.sk-parallel-item::after {content: \"\";width: 100%;border-bottom: 1px solid gray;flex-grow: 1;}#sk-container-id-1 div.sk-label:hover label.sk-toggleable__label {background-color: #d4ebff;}#sk-container-id-1 div.sk-serial::before {content: \"\";position: absolute;border-left: 1px solid gray;box-sizing: border-box;top: 0;bottom: 0;left: 50%;z-index: 0;}#sk-container-id-1 div.sk-serial {display: flex;flex-direction: column;align-items: center;background-color: white;padding-right: 0.2em;padding-left: 0.2em;position: relative;}#sk-container-id-1 div.sk-item {position: relative;z-index: 1;}#sk-container-id-1 div.sk-parallel {display: flex;align-items: stretch;justify-content: center;background-color: white;position: relative;}#sk-container-id-1 div.sk-item::before, #sk-container-id-1 div.sk-parallel-item::before {content: \"\";position: absolute;border-left: 1px solid gray;box-sizing: border-box;top: 0;bottom: 0;left: 50%;z-index: -1;}#sk-container-id-1 div.sk-parallel-item {display: flex;flex-direction: column;z-index: 1;position: relative;background-color: white;}#sk-container-id-1 div.sk-parallel-item:first-child::after {align-self: flex-end;width: 50%;}#sk-container-id-1 div.sk-parallel-item:last-child::after {align-self: flex-start;width: 50%;}#sk-container-id-1 div.sk-parallel-item:only-child::after {width: 0;}#sk-container-id-1 div.sk-dashed-wrapped {border: 1px dashed gray;margin: 0 0.4em 0.5em 0.4em;box-sizing: border-box;padding-bottom: 0.4em;background-color: white;}#sk-container-id-1 div.sk-label label {font-family: monospace;font-weight: bold;display: inline-block;line-height: 1.2em;}#sk-container-id-1 div.sk-label-container {text-align: center;}#sk-container-id-1 div.sk-container {/* jupyter's `normalize.less` sets `[hidden] { display: none; }` but bootstrap.min.css set `[hidden] { display: none !important; }` so we also need the `!important` here to be able to override the default hidden behavior on the sphinx rendered scikit-learn.org. See: https://github.com/scikit-learn/scikit-learn/issues/21755 */display: inline-block !important;position: relative;}#sk-container-id-1 div.sk-text-repr-fallback {display: none;}</style><div id=\"sk-container-id-1\" class=\"sk-top-container\"><div class=\"sk-text-repr-fallback\"><pre>OneClassSVM(gamma=1e-05, nu=0.01)</pre><b>In a Jupyter environment, please rerun this cell to show the HTML representation or trust the notebook. <br />On GitHub, the HTML representation is unable to render, please try loading this page with nbviewer.org.</b></div><div class=\"sk-container\" hidden><div class=\"sk-item\"><div class=\"sk-estimator sk-toggleable\"><input class=\"sk-toggleable__control sk-hidden--visually\" id=\"sk-estimator-id-1\" type=\"checkbox\" checked><label for=\"sk-estimator-id-1\" class=\"sk-toggleable__label sk-toggleable__label-arrow\">OneClassSVM</label><div class=\"sk-toggleable__content\"><pre>OneClassSVM(gamma=1e-05, nu=0.01)</pre></div></div></div></div></div>"
     },
     "execution_count": 12,
     "metadata": {},
     "output_type": "execute_result"
    }
   ],
   "source": [
    "ocsvm = OneClassSVM(nu=0.01, kernel='rbf', gamma=0.00001)\n",
    "ocsvm.fit(X_train)"
   ],
   "metadata": {
    "collapsed": false,
    "pycharm": {
     "name": "#%%\n"
    }
   }
  },
  {
   "cell_type": "code",
   "execution_count": 14,
   "outputs": [],
   "source": [
    "pred_y = ocsvm.predict(X_test)"
   ],
   "metadata": {
    "collapsed": false,
    "pycharm": {
     "name": "#%%\n"
    }
   }
  },
  {
   "cell_type": "code",
   "execution_count": null,
   "outputs": [],
   "source": [],
   "metadata": {
    "collapsed": false,
    "pycharm": {
     "name": "#%%\n"
    }
   }
  },
  {
   "cell_type": "code",
   "execution_count": null,
   "outputs": [],
   "source": [],
   "metadata": {
    "collapsed": false,
    "pycharm": {
     "name": "#%%\n"
    }
   }
  },
  {
   "cell_type": "code",
   "execution_count": null,
   "outputs": [],
   "source": [],
   "metadata": {
    "collapsed": false,
    "pycharm": {
     "name": "#%%\n"
    }
   }
  },
  {
   "cell_type": "code",
   "execution_count": null,
   "outputs": [],
   "source": [],
   "metadata": {
    "collapsed": false,
    "pycharm": {
     "name": "#%%\n"
    }
   }
  },
  {
   "cell_type": "code",
   "execution_count": null,
   "outputs": [],
   "source": [],
   "metadata": {
    "collapsed": false,
    "pycharm": {
     "name": "#%%\n"
    }
   }
  },
  {
   "cell_type": "code",
   "execution_count": null,
   "outputs": [],
   "source": [],
   "metadata": {
    "collapsed": false,
    "pycharm": {
     "name": "#%%\n"
    }
   }
  },
  {
   "cell_type": "code",
   "execution_count": null,
   "outputs": [],
   "source": [],
   "metadata": {
    "collapsed": false,
    "pycharm": {
     "name": "#%%\n"
    }
   }
  },
  {
   "cell_type": "code",
   "execution_count": null,
   "outputs": [],
   "source": [],
   "metadata": {
    "collapsed": false,
    "pycharm": {
     "name": "#%%\n"
    }
   }
  },
  {
   "cell_type": "code",
   "execution_count": null,
   "outputs": [],
   "source": [],
   "metadata": {
    "collapsed": false,
    "pycharm": {
     "name": "#%%\n"
    }
   }
  },
  {
   "cell_type": "code",
   "execution_count": null,
   "outputs": [],
   "source": [],
   "metadata": {
    "collapsed": false,
    "pycharm": {
     "name": "#%%\n"
    }
   }
  },
  {
   "cell_type": "code",
   "execution_count": null,
   "outputs": [],
   "source": [
    "\n"
   ],
   "metadata": {
    "collapsed": false,
    "pycharm": {
     "name": "#%%\n"
    }
   }
  }
 ],
 "metadata": {
  "kernelspec": {
   "display_name": "Python 3",
   "language": "python",
   "name": "python3"
  },
  "language_info": {
   "codemirror_mode": {
    "name": "ipython",
    "version": 2
   },
   "file_extension": ".py",
   "mimetype": "text/x-python",
   "name": "python",
   "nbconvert_exporter": "python",
   "pygments_lexer": "ipython2",
   "version": "2.7.6"
  }
 },
 "nbformat": 4,
 "nbformat_minor": 0
}