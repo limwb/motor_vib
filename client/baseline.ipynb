{
 "cells": [
  {
   "cell_type": "code",
   "execution_count": 1,
   "metadata": {
    "collapsed": true,
    "pycharm": {
     "name": "#%%\n"
    }
   },
   "outputs": [
    {
     "name": "stdout",
     "output_type": "stream",
     "text": [
      "Connected by ('192.168.30.119', 43930)\n"
     ]
    }
   ],
   "source": [
    "import socket\n",
    "\n",
    "HOST = '192.168.30.111'\n",
    "PORT = 54321\n",
    "\n",
    "server_socket = socket.socket(socket.AF_INET, socket.SOCK_STREAM)\n",
    "# 서버 주소 지정\n",
    "server_socket.bind((HOST, PORT))\n",
    "# 연결 요청 대기\n",
    "server_socket.listen()\n",
    "# 연결 요청 수락\n",
    "\n",
    "datalist = []\n",
    "conn, addr = server_socket.accept()\n",
    "\n",
    "print('Connected by', addr)\n",
    "for i in range(10):\n",
    "    data = conn.recv(1024)\n",
    "    datalist.append(data)"
   ]
  },
  {
   "cell_type": "code",
   "execution_count": 2,
   "outputs": [
    {
     "data": {
      "text/plain": "[b'{\"filedKeys\": {\"acc_x\": -0.0, \"acc_y\": -0.006, \"acc_z\": 1.004, \"gyr_x\": 0.12, \"gyr_y\": 0.11, \"gyr_z\": 0.13, \"ang_x\": -0.29, \"ang_y\": 0.06, \"ang_z\": -104.12}}',\n b'{\"filedKeys\": {\"acc_x\": 0.0, \"acc_y\": -0.004, \"acc_z\": 1.005, \"gyr_x\": -0.15, \"gyr_y\": -0.01, \"gyr_z\": 0.37, \"ang_x\": -0.29, \"ang_y\": 0.07, \"ang_z\": -104.12}}',\n b'{\"filedKeys\": {\"acc_x\": -0.002, \"acc_y\": -0.007, \"acc_z\": 0.999, \"gyr_x\": -0.01, \"gyr_y\": -0.07, \"gyr_z\": 0.04, \"ang_x\": -0.3, \"ang_y\": 0.06, \"ang_z\": -104.12}}',\n b'{\"filedKeys\": {\"acc_x\": 0.0, \"acc_y\": -0.004, \"acc_z\": 0.999, \"gyr_x\": -0.04, \"gyr_y\": 0.05, \"gyr_z\": 0.15, \"ang_x\": -0.3, \"ang_y\": 0.07, \"ang_z\": -104.12}}',\n b'{\"filedKeys\": {\"acc_x\": 0.002, \"acc_y\": -0.006, \"acc_z\": 0.997, \"gyr_x\": -0.03, \"gyr_y\": -0.12, \"gyr_z\": 0.08, \"ang_x\": -0.3, \"ang_y\": 0.06, \"ang_z\": -104.12}}',\n b'{\"filedKeys\": {\"acc_x\": 0.0, \"acc_y\": -0.006, \"acc_z\": 0.989, \"gyr_x\": 0.06, \"gyr_y\": 0.12, \"gyr_z\": -0.16, \"ang_x\": -0.3, \"ang_y\": 0.07, \"ang_z\": -104.12}}',\n b'{\"filedKeys\": {\"acc_x\": -0.003, \"acc_y\": -0.006, \"acc_z\": 1.0, \"gyr_x\": -0.01, \"gyr_y\": 0.01, \"gyr_z\": 0.07, \"ang_x\": -0.3, \"ang_y\": 0.06, \"ang_z\": -104.12}}',\n b'{\"filedKeys\": {\"acc_x\": -0.001, \"acc_y\": -0.007, \"acc_z\": 1.002, \"gyr_x\": 0.14, \"gyr_y\": -0.01, \"gyr_z\": -0.25, \"ang_x\": -0.3, \"ang_y\": 0.06, \"ang_z\": -104.12}}',\n b'{\"filedKeys\": {\"acc_x\": -0.002, \"acc_y\": -0.006, \"acc_z\": 0.996, \"gyr_x\": -0.06, \"gyr_y\": 0.12, \"gyr_z\": 0.17, \"ang_x\": -0.3, \"ang_y\": 0.07, \"ang_z\": -104.12}}',\n b'{\"filedKeys\": {\"acc_x\": 0.002, \"acc_y\": -0.006, \"acc_z\": 1.003, \"gyr_x\": 0.16, \"gyr_y\": 0.01, \"gyr_z\": -0.06, \"ang_x\": -0.3, \"ang_y\": 0.06, \"ang_z\": -104.12}}']"
     },
     "execution_count": 2,
     "metadata": {},
     "output_type": "execute_result"
    }
   ],
   "source": [
    "datalist"
   ],
   "metadata": {
    "collapsed": false,
    "pycharm": {
     "name": "#%%\n"
    }
   }
  },
  {
   "cell_type": "code",
   "execution_count": 3,
   "outputs": [
    {
     "data": {
      "text/plain": "b'{\"filedKeys\": {\"acc_x\": 0.0, \"acc_y\": -0.007, \"acc_z\": 1.0, \"gyr_x\": -0.02, \"gyr_y\": -0.16, \"gyr_z\": -0.04, \"ang_x\": -0.3, \"ang_y\": 0.02, \"ang_z\": -103.46}}'"
     },
     "execution_count": 3,
     "metadata": {},
     "output_type": "execute_result"
    }
   ],
   "source": [
    "data"
   ],
   "metadata": {
    "collapsed": false,
    "pycharm": {
     "name": "#%%\n"
    }
   }
  },
  {
   "cell_type": "code",
   "execution_count": 4,
   "outputs": [
    {
     "data": {
      "text/plain": "bytes"
     },
     "execution_count": 4,
     "metadata": {},
     "output_type": "execute_result"
    }
   ],
   "source": [
    "type(data)"
   ],
   "metadata": {
    "collapsed": false,
    "pycharm": {
     "name": "#%%\n"
    }
   }
  },
  {
   "cell_type": "markdown",
   "source": [
    "### type cast\n",
    "- byte to str\n",
    "- str to dic"
   ],
   "metadata": {
    "collapsed": false,
    "pycharm": {
     "name": "#%% md\n"
    }
   }
  },
  {
   "cell_type": "code",
   "execution_count": 3,
   "outputs": [],
   "source": [
    "import json"
   ],
   "metadata": {
    "collapsed": false,
    "pycharm": {
     "name": "#%%\n"
    }
   }
  },
  {
   "cell_type": "code",
   "execution_count": 6,
   "outputs": [],
   "source": [
    "data_to_str = data.decode('utf-8')\n",
    "data_to_dict = json.loads(data_to_str)"
   ],
   "metadata": {
    "collapsed": false,
    "pycharm": {
     "name": "#%%\n"
    }
   }
  },
  {
   "cell_type": "code",
   "execution_count": 10,
   "outputs": [
    {
     "data": {
      "text/plain": "{'acc_x': 0.0,\n 'acc_y': -0.007,\n 'acc_z': 1.0,\n 'gyr_x': -0.02,\n 'gyr_y': -0.16,\n 'gyr_z': -0.04,\n 'ang_x': -0.3,\n 'ang_y': 0.02,\n 'ang_z': -103.46}"
     },
     "execution_count": 10,
     "metadata": {},
     "output_type": "execute_result"
    }
   ],
   "source": [
    "data_to_dict['filedKeys']"
   ],
   "metadata": {
    "collapsed": false,
    "pycharm": {
     "name": "#%%\n"
    }
   }
  },
  {
   "cell_type": "code",
   "execution_count": 8,
   "outputs": [
    {
     "data": {
      "text/plain": "dict_keys(['acc_x', 'acc_y', 'acc_z', 'gyr_x', 'gyr_y', 'gyr_z', 'ang_x', 'ang_y', 'ang_z'])"
     },
     "execution_count": 8,
     "metadata": {},
     "output_type": "execute_result"
    }
   ],
   "source": [
    "data_to_dict[list(data_to_dict.keys())[0]].keys()"
   ],
   "metadata": {
    "collapsed": false,
    "pycharm": {
     "name": "#%%\n"
    }
   }
  },
  {
   "cell_type": "code",
   "execution_count": 18,
   "outputs": [
    {
     "data": {
      "text/plain": "0.009"
     },
     "execution_count": 18,
     "metadata": {},
     "output_type": "execute_result"
    }
   ],
   "source": [
    "data_to_dict[list(data_to_dict.keys())[0]]['acc_x']"
   ],
   "metadata": {
    "collapsed": false,
    "pycharm": {
     "name": "#%%\n"
    }
   }
  },
  {
   "cell_type": "code",
   "execution_count": 15,
   "outputs": [
    {
     "data": {
      "text/plain": "'acc_x'"
     },
     "execution_count": 15,
     "metadata": {},
     "output_type": "execute_result"
    }
   ],
   "source": [
    "list(data_to_dict[list(data_to_dict.keys())[0]].keys())[0]"
   ],
   "metadata": {
    "collapsed": false,
    "pycharm": {
     "name": "#%%\n"
    }
   }
  },
  {
   "cell_type": "code",
   "execution_count": 16,
   "outputs": [
    {
     "data": {
      "text/plain": "0.009"
     },
     "execution_count": 16,
     "metadata": {},
     "output_type": "execute_result"
    }
   ],
   "source": [
    "data_to_dict[list(data_to_dict.keys())[0]][list(data_to_dict[list(data_to_dict.keys())[0]].keys())[0]]"
   ],
   "metadata": {
    "collapsed": false,
    "pycharm": {
     "name": "#%%\n"
    }
   }
  },
  {
   "cell_type": "markdown",
   "source": [
    "## mongoDB"
   ],
   "metadata": {
    "collapsed": false,
    "pycharm": {
     "name": "#%% md\n"
    }
   }
  },
  {
   "cell_type": "code",
   "execution_count": 4,
   "outputs": [],
   "source": [
    "from pymongo import MongoClient"
   ],
   "metadata": {
    "collapsed": false,
    "pycharm": {
     "name": "#%%\n"
    }
   }
  },
  {
   "cell_type": "code",
   "execution_count": 5,
   "outputs": [],
   "source": [
    "client = MongoClient(host='localhost', port=27017)"
   ],
   "metadata": {
    "collapsed": false,
    "pycharm": {
     "name": "#%%\n"
    }
   }
  },
  {
   "cell_type": "markdown",
   "source": [
    "### Insert"
   ],
   "metadata": {
    "collapsed": false,
    "pycharm": {
     "name": "#%% md\n"
    }
   }
  },
  {
   "cell_type": "code",
   "execution_count": 6,
   "outputs": [],
   "source": [
    "db = client['test']  #test2 : db이름(생성)"
   ],
   "metadata": {
    "collapsed": false,
    "pycharm": {
     "name": "#%%\n"
    }
   }
  },
  {
   "cell_type": "code",
   "execution_count": 7,
   "outputs": [
    {
     "name": "stdout",
     "output_type": "stream",
     "text": [
      "['admin', 'config', 'local']\n"
     ]
    }
   ],
   "source": [
    "print(client.list_database_names())"
   ],
   "metadata": {
    "collapsed": false,
    "pycharm": {
     "name": "#%%\n"
    }
   }
  },
  {
   "cell_type": "code",
   "execution_count": 8,
   "outputs": [],
   "source": [
    "dictlist = []\n",
    "for _d in datalist:\n",
    "    data_to_str = _d.decode('utf-8')\n",
    "\n",
    "    data_to_dict = json.loads(data_to_str)\n",
    "    dictlist.append(data_to_dict['filedKeys'])"
   ],
   "metadata": {
    "collapsed": false,
    "pycharm": {
     "name": "#%%\n"
    }
   }
  },
  {
   "cell_type": "code",
   "execution_count": 9,
   "outputs": [
    {
     "data": {
      "text/plain": "[{'acc_x': -0.0,\n  'acc_y': -0.006,\n  'acc_z': 1.004,\n  'gyr_x': 0.12,\n  'gyr_y': 0.11,\n  'gyr_z': 0.13,\n  'ang_x': -0.29,\n  'ang_y': 0.06,\n  'ang_z': -104.12},\n {'acc_x': 0.0,\n  'acc_y': -0.004,\n  'acc_z': 1.005,\n  'gyr_x': -0.15,\n  'gyr_y': -0.01,\n  'gyr_z': 0.37,\n  'ang_x': -0.29,\n  'ang_y': 0.07,\n  'ang_z': -104.12},\n {'acc_x': -0.002,\n  'acc_y': -0.007,\n  'acc_z': 0.999,\n  'gyr_x': -0.01,\n  'gyr_y': -0.07,\n  'gyr_z': 0.04,\n  'ang_x': -0.3,\n  'ang_y': 0.06,\n  'ang_z': -104.12},\n {'acc_x': 0.0,\n  'acc_y': -0.004,\n  'acc_z': 0.999,\n  'gyr_x': -0.04,\n  'gyr_y': 0.05,\n  'gyr_z': 0.15,\n  'ang_x': -0.3,\n  'ang_y': 0.07,\n  'ang_z': -104.12},\n {'acc_x': 0.002,\n  'acc_y': -0.006,\n  'acc_z': 0.997,\n  'gyr_x': -0.03,\n  'gyr_y': -0.12,\n  'gyr_z': 0.08,\n  'ang_x': -0.3,\n  'ang_y': 0.06,\n  'ang_z': -104.12},\n {'acc_x': 0.0,\n  'acc_y': -0.006,\n  'acc_z': 0.989,\n  'gyr_x': 0.06,\n  'gyr_y': 0.12,\n  'gyr_z': -0.16,\n  'ang_x': -0.3,\n  'ang_y': 0.07,\n  'ang_z': -104.12},\n {'acc_x': -0.003,\n  'acc_y': -0.006,\n  'acc_z': 1.0,\n  'gyr_x': -0.01,\n  'gyr_y': 0.01,\n  'gyr_z': 0.07,\n  'ang_x': -0.3,\n  'ang_y': 0.06,\n  'ang_z': -104.12},\n {'acc_x': -0.001,\n  'acc_y': -0.007,\n  'acc_z': 1.002,\n  'gyr_x': 0.14,\n  'gyr_y': -0.01,\n  'gyr_z': -0.25,\n  'ang_x': -0.3,\n  'ang_y': 0.06,\n  'ang_z': -104.12},\n {'acc_x': -0.002,\n  'acc_y': -0.006,\n  'acc_z': 0.996,\n  'gyr_x': -0.06,\n  'gyr_y': 0.12,\n  'gyr_z': 0.17,\n  'ang_x': -0.3,\n  'ang_y': 0.07,\n  'ang_z': -104.12},\n {'acc_x': 0.002,\n  'acc_y': -0.006,\n  'acc_z': 1.003,\n  'gyr_x': 0.16,\n  'gyr_y': 0.01,\n  'gyr_z': -0.06,\n  'ang_x': -0.3,\n  'ang_y': 0.06,\n  'ang_z': -104.12}]"
     },
     "execution_count": 9,
     "metadata": {},
     "output_type": "execute_result"
    }
   ],
   "source": [
    "dictlist"
   ],
   "metadata": {
    "collapsed": false,
    "pycharm": {
     "name": "#%%\n"
    }
   }
  },
  {
   "cell_type": "code",
   "execution_count": 10,
   "outputs": [
    {
     "data": {
      "text/plain": "Collection(Database(MongoClient(host=['localhost:27017'], document_class=dict, tz_aware=False, connect=True), 'test'), 'data')"
     },
     "execution_count": 10,
     "metadata": {},
     "output_type": "execute_result"
    }
   ],
   "source": [
    "db['data']  #data : 컬렉션 이름(생성)"
   ],
   "metadata": {
    "collapsed": false,
    "pycharm": {
     "name": "#%%\n"
    }
   }
  },
  {
   "cell_type": "code",
   "execution_count": 11,
   "outputs": [],
   "source": [
    "for _d in dictlist:\n",
    "    db_insert = db['data'].insert_one(_d)"
   ],
   "metadata": {
    "collapsed": false,
    "pycharm": {
     "name": "#%%\n"
    }
   }
  },
  {
   "cell_type": "markdown",
   "source": [
    "### select"
   ],
   "metadata": {
    "collapsed": false,
    "pycharm": {
     "name": "#%% md\n"
    }
   }
  },
  {
   "cell_type": "code",
   "execution_count": 13,
   "outputs": [],
   "source": [
    "mydb = client['test']\n",
    "mycol = mydb['data']"
   ],
   "metadata": {
    "collapsed": false,
    "pycharm": {
     "name": "#%%\n"
    }
   }
  },
  {
   "cell_type": "code",
   "execution_count": 15,
   "outputs": [
    {
     "name": "stdout",
     "output_type": "stream",
     "text": [
      "-0.0\n",
      "0.0\n",
      "-0.002\n",
      "0.0\n",
      "0.002\n",
      "0.0\n",
      "-0.003\n",
      "-0.001\n",
      "-0.002\n",
      "0.002\n"
     ]
    }
   ],
   "source": [
    "for d in mycol.find():\n",
    "    print(d['acc_x'])"
   ],
   "metadata": {
    "collapsed": false,
    "pycharm": {
     "name": "#%%\n"
    }
   }
  },
  {
   "cell_type": "markdown",
   "source": [
    "### Data size check"
   ],
   "metadata": {
    "collapsed": false,
    "pycharm": {
     "name": "#%% md\n"
    }
   }
  },
  {
   "cell_type": "code",
   "execution_count": 1,
   "outputs": [],
   "source": [
    "check_data = '1674708847.403180'"
   ],
   "metadata": {
    "collapsed": false,
    "pycharm": {
     "name": "#%%\n"
    }
   }
  },
  {
   "cell_type": "code",
   "execution_count": 5,
   "outputs": [
    {
     "data": {
      "text/plain": "1674708847.40318"
     },
     "execution_count": 5,
     "metadata": {},
     "output_type": "execute_result"
    }
   ],
   "source": [
    "float(check_data)"
   ],
   "metadata": {
    "collapsed": false,
    "pycharm": {
     "name": "#%%\n"
    }
   }
  },
  {
   "cell_type": "code",
   "execution_count": 2,
   "outputs": [],
   "source": [
    "import sys"
   ],
   "metadata": {
    "collapsed": false,
    "pycharm": {
     "name": "#%%\n"
    }
   }
  },
  {
   "cell_type": "code",
   "execution_count": 3,
   "outputs": [
    {
     "data": {
      "text/plain": "66"
     },
     "execution_count": 3,
     "metadata": {},
     "output_type": "execute_result"
    }
   ],
   "source": [
    "sys.getsizeof(check_data)"
   ],
   "metadata": {
    "collapsed": false,
    "pycharm": {
     "name": "#%%\n"
    }
   }
  },
  {
   "cell_type": "code",
   "execution_count": 4,
   "outputs": [
    {
     "data": {
      "text/plain": "24"
     },
     "execution_count": 4,
     "metadata": {},
     "output_type": "execute_result"
    }
   ],
   "source": [
    "sys.getsizeof(float(check_data))"
   ],
   "metadata": {
    "collapsed": false,
    "pycharm": {
     "name": "#%%\n"
    }
   }
  },
  {
   "cell_type": "code",
   "execution_count": 6,
   "outputs": [
    {
     "data": {
      "text/plain": "24"
     },
     "execution_count": 6,
     "metadata": {},
     "output_type": "execute_result"
    }
   ],
   "source": [
    "sys.getsizeof(2.1)"
   ],
   "metadata": {
    "collapsed": false,
    "pycharm": {
     "name": "#%%\n"
    }
   }
  }
 ],
 "metadata": {
  "kernelspec": {
   "display_name": "Python 3",
   "language": "python",
   "name": "python3"
  },
  "language_info": {
   "codemirror_mode": {
    "name": "ipython",
    "version": 2
   },
   "file_extension": ".py",
   "mimetype": "text/x-python",
   "name": "python",
   "nbconvert_exporter": "python",
   "pygments_lexer": "ipython2",
   "version": "2.7.6"
  }
 },
 "nbformat": 4,
 "nbformat_minor": 0
}