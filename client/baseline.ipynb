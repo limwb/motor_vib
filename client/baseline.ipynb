{
 "cells": [
  {
   "cell_type": "code",
   "execution_count": 1,
   "metadata": {
    "collapsed": true,
    "pycharm": {
     "name": "#%%\n"
    }
   },
   "outputs": [
    {
     "name": "stdout",
     "output_type": "stream",
     "text": [
      "Connected by ('192.168.30.119', 43930)\n"
     ]
    }
   ],
   "source": [
    "import socket\n",
    "\n",
    "HOST = '192.168.30.111'\n",
    "PORT = 54321\n",
    "\n",
    "server_socket = socket.socket(socket.AF_INET, socket.SOCK_STREAM)\n",
    "# 서버 주소 지정\n",
    "server_socket.bind((HOST, PORT))\n",
    "# 연결 요청 대기\n",
    "server_socket.listen()\n",
    "# 연결 요청 수락\n",
    "\n",
    "datalist = []\n",
    "conn, addr = server_socket.accept()\n",
    "\n",
    "print('Connected by', addr)\n",
    "for i in range(10):\n",
    "    data = conn.recv(1024)\n",
    "    datalist.append(data)"
   ]
  },
  {
   "cell_type": "code",
   "execution_count": 2,
   "outputs": [
    {
     "data": {
      "text/plain": "[b'{\"filedKeys\": {\"acc_x\": -0.0, \"acc_y\": -0.006, \"acc_z\": 1.004, \"gyr_x\": 0.12, \"gyr_y\": 0.11, \"gyr_z\": 0.13, \"ang_x\": -0.29, \"ang_y\": 0.06, \"ang_z\": -104.12}}',\n b'{\"filedKeys\": {\"acc_x\": 0.0, \"acc_y\": -0.004, \"acc_z\": 1.005, \"gyr_x\": -0.15, \"gyr_y\": -0.01, \"gyr_z\": 0.37, \"ang_x\": -0.29, \"ang_y\": 0.07, \"ang_z\": -104.12}}',\n b'{\"filedKeys\": {\"acc_x\": -0.002, \"acc_y\": -0.007, \"acc_z\": 0.999, \"gyr_x\": -0.01, \"gyr_y\": -0.07, \"gyr_z\": 0.04, \"ang_x\": -0.3, \"ang_y\": 0.06, \"ang_z\": -104.12}}',\n b'{\"filedKeys\": {\"acc_x\": 0.0, \"acc_y\": -0.004, \"acc_z\": 0.999, \"gyr_x\": -0.04, \"gyr_y\": 0.05, \"gyr_z\": 0.15, \"ang_x\": -0.3, \"ang_y\": 0.07, \"ang_z\": -104.12}}',\n b'{\"filedKeys\": {\"acc_x\": 0.002, \"acc_y\": -0.006, \"acc_z\": 0.997, \"gyr_x\": -0.03, \"gyr_y\": -0.12, \"gyr_z\": 0.08, \"ang_x\": -0.3, \"ang_y\": 0.06, \"ang_z\": -104.12}}',\n b'{\"filedKeys\": {\"acc_x\": 0.0, \"acc_y\": -0.006, \"acc_z\": 0.989, \"gyr_x\": 0.06, \"gyr_y\": 0.12, \"gyr_z\": -0.16, \"ang_x\": -0.3, \"ang_y\": 0.07, \"ang_z\": -104.12}}',\n b'{\"filedKeys\": {\"acc_x\": -0.003, \"acc_y\": -0.006, \"acc_z\": 1.0, \"gyr_x\": -0.01, \"gyr_y\": 0.01, \"gyr_z\": 0.07, \"ang_x\": -0.3, \"ang_y\": 0.06, \"ang_z\": -104.12}}',\n b'{\"filedKeys\": {\"acc_x\": -0.001, \"acc_y\": -0.007, \"acc_z\": 1.002, \"gyr_x\": 0.14, \"gyr_y\": -0.01, \"gyr_z\": -0.25, \"ang_x\": -0.3, \"ang_y\": 0.06, \"ang_z\": -104.12}}',\n b'{\"filedKeys\": {\"acc_x\": -0.002, \"acc_y\": -0.006, \"acc_z\": 0.996, \"gyr_x\": -0.06, \"gyr_y\": 0.12, \"gyr_z\": 0.17, \"ang_x\": -0.3, \"ang_y\": 0.07, \"ang_z\": -104.12}}',\n b'{\"filedKeys\": {\"acc_x\": 0.002, \"acc_y\": -0.006, \"acc_z\": 1.003, \"gyr_x\": 0.16, \"gyr_y\": 0.01, \"gyr_z\": -0.06, \"ang_x\": -0.3, \"ang_y\": 0.06, \"ang_z\": -104.12}}']"
     },
     "execution_count": 2,
     "metadata": {},
     "output_type": "execute_result"
    }
   ],
   "source": [
    "datalist"
   ],
   "metadata": {
    "collapsed": false,
    "pycharm": {
     "name": "#%%\n"
    }
   }
  },
  {
   "cell_type": "code",
   "execution_count": 3,
   "outputs": [
    {
     "data": {
      "text/plain": "b'{\"filedKeys\": {\"acc_x\": 0.0, \"acc_y\": -0.007, \"acc_z\": 1.0, \"gyr_x\": -0.02, \"gyr_y\": -0.16, \"gyr_z\": -0.04, \"ang_x\": -0.3, \"ang_y\": 0.02, \"ang_z\": -103.46}}'"
     },
     "execution_count": 3,
     "metadata": {},
     "output_type": "execute_result"
    }
   ],
   "source": [
    "data"
   ],
   "metadata": {
    "collapsed": false,
    "pycharm": {
     "name": "#%%\n"
    }
   }
  },
  {
   "cell_type": "code",
   "execution_count": 4,
   "outputs": [
    {
     "data": {
      "text/plain": "bytes"
     },
     "execution_count": 4,
     "metadata": {},
     "output_type": "execute_result"
    }
   ],
   "source": [
    "type(data)"
   ],
   "metadata": {
    "collapsed": false,
    "pycharm": {
     "name": "#%%\n"
    }
   }
  },
  {
   "cell_type": "markdown",
   "source": [
    "### type cast\n",
    "- byte to str\n",
    "- str to dic"
   ],
   "metadata": {
    "collapsed": false,
    "pycharm": {
     "name": "#%% md\n"
    }
   }
  },
  {
   "cell_type": "code",
   "execution_count": 3,
   "outputs": [],
   "source": [
    "import json"
   ],
   "metadata": {
    "collapsed": false,
    "pycharm": {
     "name": "#%%\n"
    }
   }
  },
  {
   "cell_type": "code",
   "execution_count": 6,
   "outputs": [],
   "source": [
    "data_to_str = data.decode('utf-8')\n",
    "data_to_dict = json.loads(data_to_str)"
   ],
   "metadata": {
    "collapsed": false,
    "pycharm": {
     "name": "#%%\n"
    }
   }
  },
  {
   "cell_type": "code",
   "execution_count": 10,
   "outputs": [
    {
     "data": {
      "text/plain": "{'acc_x': 0.0,\n 'acc_y': -0.007,\n 'acc_z': 1.0,\n 'gyr_x': -0.02,\n 'gyr_y': -0.16,\n 'gyr_z': -0.04,\n 'ang_x': -0.3,\n 'ang_y': 0.02,\n 'ang_z': -103.46}"
     },
     "execution_count": 10,
     "metadata": {},
     "output_type": "execute_result"
    }
   ],
   "source": [
    "data_to_dict['filedKeys']"
   ],
   "metadata": {
    "collapsed": false,
    "pycharm": {
     "name": "#%%\n"
    }
   }
  },
  {
   "cell_type": "code",
   "execution_count": 8,
   "outputs": [
    {
     "data": {
      "text/plain": "dict_keys(['acc_x', 'acc_y', 'acc_z', 'gyr_x', 'gyr_y', 'gyr_z', 'ang_x', 'ang_y', 'ang_z'])"
     },
     "execution_count": 8,
     "metadata": {},
     "output_type": "execute_result"
    }
   ],
   "source": [
    "data_to_dict[list(data_to_dict.keys())[0]].keys()"
   ],
   "metadata": {
    "collapsed": false,
    "pycharm": {
     "name": "#%%\n"
    }
   }
  },
  {
   "cell_type": "code",
   "execution_count": 18,
   "outputs": [
    {
     "data": {
      "text/plain": "0.009"
     },
     "execution_count": 18,
     "metadata": {},
     "output_type": "execute_result"
    }
   ],
   "source": [
    "data_to_dict[list(data_to_dict.keys())[0]]['acc_x']"
   ],
   "metadata": {
    "collapsed": false,
    "pycharm": {
     "name": "#%%\n"
    }
   }
  },
  {
   "cell_type": "code",
   "execution_count": 15,
   "outputs": [
    {
     "data": {
      "text/plain": "'acc_x'"
     },
     "execution_count": 15,
     "metadata": {},
     "output_type": "execute_result"
    }
   ],
   "source": [
    "list(data_to_dict[list(data_to_dict.keys())[0]].keys())[0]"
   ],
   "metadata": {
    "collapsed": false,
    "pycharm": {
     "name": "#%%\n"
    }
   }
  },
  {
   "cell_type": "code",
   "execution_count": 16,
   "outputs": [
    {
     "data": {
      "text/plain": "0.009"
     },
     "execution_count": 16,
     "metadata": {},
     "output_type": "execute_result"
    }
   ],
   "source": [
    "data_to_dict[list(data_to_dict.keys())[0]][list(data_to_dict[list(data_to_dict.keys())[0]].keys())[0]]"
   ],
   "metadata": {
    "collapsed": false,
    "pycharm": {
     "name": "#%%\n"
    }
   }
  },
  {
   "cell_type": "markdown",
   "source": [
    "## mongoDB"
   ],
   "metadata": {
    "collapsed": false,
    "pycharm": {
     "name": "#%% md\n"
    }
   }
  },
  {
   "cell_type": "code",
   "execution_count": 1,
   "outputs": [],
   "source": [
    "from pymongo import MongoClient"
   ],
   "metadata": {
    "collapsed": false,
    "pycharm": {
     "name": "#%%\n"
    }
   }
  },
  {
   "cell_type": "code",
   "execution_count": 2,
   "outputs": [],
   "source": [
    "client = MongoClient(host='localhost', port=27017)"
   ],
   "metadata": {
    "collapsed": false,
    "pycharm": {
     "name": "#%%\n"
    }
   }
  },
  {
   "cell_type": "markdown",
   "source": [
    "### Insert"
   ],
   "metadata": {
    "collapsed": false,
    "pycharm": {
     "name": "#%% md\n"
    }
   }
  },
  {
   "cell_type": "code",
   "execution_count": 6,
   "outputs": [],
   "source": [
    "db = client['test']  #test2 : db이름(생성)"
   ],
   "metadata": {
    "collapsed": false,
    "pycharm": {
     "name": "#%%\n"
    }
   }
  },
  {
   "cell_type": "code",
   "execution_count": 7,
   "outputs": [
    {
     "name": "stdout",
     "output_type": "stream",
     "text": [
      "['admin', 'config', 'local']\n"
     ]
    }
   ],
   "source": [
    "print(client.list_database_names())"
   ],
   "metadata": {
    "collapsed": false,
    "pycharm": {
     "name": "#%%\n"
    }
   }
  },
  {
   "cell_type": "code",
   "execution_count": 8,
   "outputs": [],
   "source": [
    "dictlist = []\n",
    "for _d in datalist:\n",
    "    data_to_str = _d.decode('utf-8')\n",
    "\n",
    "    data_to_dict = json.loads(data_to_str)\n",
    "    dictlist.append(data_to_dict['filedKeys'])"
   ],
   "metadata": {
    "collapsed": false,
    "pycharm": {
     "name": "#%%\n"
    }
   }
  },
  {
   "cell_type": "code",
   "execution_count": 9,
   "outputs": [
    {
     "data": {
      "text/plain": "[{'acc_x': -0.0,\n  'acc_y': -0.006,\n  'acc_z': 1.004,\n  'gyr_x': 0.12,\n  'gyr_y': 0.11,\n  'gyr_z': 0.13,\n  'ang_x': -0.29,\n  'ang_y': 0.06,\n  'ang_z': -104.12},\n {'acc_x': 0.0,\n  'acc_y': -0.004,\n  'acc_z': 1.005,\n  'gyr_x': -0.15,\n  'gyr_y': -0.01,\n  'gyr_z': 0.37,\n  'ang_x': -0.29,\n  'ang_y': 0.07,\n  'ang_z': -104.12},\n {'acc_x': -0.002,\n  'acc_y': -0.007,\n  'acc_z': 0.999,\n  'gyr_x': -0.01,\n  'gyr_y': -0.07,\n  'gyr_z': 0.04,\n  'ang_x': -0.3,\n  'ang_y': 0.06,\n  'ang_z': -104.12},\n {'acc_x': 0.0,\n  'acc_y': -0.004,\n  'acc_z': 0.999,\n  'gyr_x': -0.04,\n  'gyr_y': 0.05,\n  'gyr_z': 0.15,\n  'ang_x': -0.3,\n  'ang_y': 0.07,\n  'ang_z': -104.12},\n {'acc_x': 0.002,\n  'acc_y': -0.006,\n  'acc_z': 0.997,\n  'gyr_x': -0.03,\n  'gyr_y': -0.12,\n  'gyr_z': 0.08,\n  'ang_x': -0.3,\n  'ang_y': 0.06,\n  'ang_z': -104.12},\n {'acc_x': 0.0,\n  'acc_y': -0.006,\n  'acc_z': 0.989,\n  'gyr_x': 0.06,\n  'gyr_y': 0.12,\n  'gyr_z': -0.16,\n  'ang_x': -0.3,\n  'ang_y': 0.07,\n  'ang_z': -104.12},\n {'acc_x': -0.003,\n  'acc_y': -0.006,\n  'acc_z': 1.0,\n  'gyr_x': -0.01,\n  'gyr_y': 0.01,\n  'gyr_z': 0.07,\n  'ang_x': -0.3,\n  'ang_y': 0.06,\n  'ang_z': -104.12},\n {'acc_x': -0.001,\n  'acc_y': -0.007,\n  'acc_z': 1.002,\n  'gyr_x': 0.14,\n  'gyr_y': -0.01,\n  'gyr_z': -0.25,\n  'ang_x': -0.3,\n  'ang_y': 0.06,\n  'ang_z': -104.12},\n {'acc_x': -0.002,\n  'acc_y': -0.006,\n  'acc_z': 0.996,\n  'gyr_x': -0.06,\n  'gyr_y': 0.12,\n  'gyr_z': 0.17,\n  'ang_x': -0.3,\n  'ang_y': 0.07,\n  'ang_z': -104.12},\n {'acc_x': 0.002,\n  'acc_y': -0.006,\n  'acc_z': 1.003,\n  'gyr_x': 0.16,\n  'gyr_y': 0.01,\n  'gyr_z': -0.06,\n  'ang_x': -0.3,\n  'ang_y': 0.06,\n  'ang_z': -104.12}]"
     },
     "execution_count": 9,
     "metadata": {},
     "output_type": "execute_result"
    }
   ],
   "source": [
    "dictlist"
   ],
   "metadata": {
    "collapsed": false,
    "pycharm": {
     "name": "#%%\n"
    }
   }
  },
  {
   "cell_type": "code",
   "execution_count": 10,
   "outputs": [
    {
     "data": {
      "text/plain": "Collection(Database(MongoClient(host=['localhost:27017'], document_class=dict, tz_aware=False, connect=True), 'test'), 'data')"
     },
     "execution_count": 10,
     "metadata": {},
     "output_type": "execute_result"
    }
   ],
   "source": [
    "db['data']  #data : 컬렉션 이름(생성)"
   ],
   "metadata": {
    "collapsed": false,
    "pycharm": {
     "name": "#%%\n"
    }
   }
  },
  {
   "cell_type": "code",
   "execution_count": 11,
   "outputs": [],
   "source": [
    "for _d in dictlist:\n",
    "    db_insert = db['data'].insert_one(_d)"
   ],
   "metadata": {
    "collapsed": false,
    "pycharm": {
     "name": "#%%\n"
    }
   }
  },
  {
   "cell_type": "markdown",
   "source": [
    "### select"
   ],
   "metadata": {
    "collapsed": false,
    "pycharm": {
     "name": "#%% md\n"
    }
   }
  },
  {
   "cell_type": "code",
   "execution_count": 4,
   "outputs": [],
   "source": [
    "client = MongoClient(host='localhost', port=27017)\n",
    "db = client['ai_data_db']\n",
    "col = db['motor_vib']"
   ],
   "metadata": {
    "collapsed": false,
    "pycharm": {
     "name": "#%%\n"
    }
   }
  },
  {
   "cell_type": "code",
   "execution_count": 5,
   "outputs": [],
   "source": [
    "data = []\n",
    "for d in col.find():\n",
    "    data.append(d)"
   ],
   "metadata": {
    "collapsed": false,
    "pycharm": {
     "name": "#%%\n"
    }
   }
  },
  {
   "cell_type": "code",
   "execution_count": 7,
   "outputs": [],
   "source": [
    "import pandas as pd"
   ],
   "metadata": {
    "collapsed": false,
    "pycharm": {
     "name": "#%%\n"
    }
   }
  },
  {
   "cell_type": "code",
   "execution_count": 8,
   "outputs": [
    {
     "data": {
      "text/plain": "                             _id  acc_x  acc_y  acc_z  gyr_x  gyr_y  gyr_z  \\\n0       63d3299c009228c97f8bfc0a  0.036  0.118  1.015  -0.69  -2.61  -0.33   \n1       63d329a78572bb59d0a25166 -0.030  0.105  0.979  -0.45  -1.10   0.67   \n2       63d329a78572bb59d0a25167 -0.079  0.160  1.009  -0.66  -0.96   0.64   \n3       63d329a78572bb59d0a25168 -0.062  0.101  1.087  -0.44  -3.06   0.61   \n4       63d329a78572bb59d0a25169  0.042  0.100  1.019  -0.25   0.72  -0.65   \n...                          ...    ...    ...    ...    ...    ...    ...   \n150620  63d34cf48572bb59d0a49dc1  0.011  0.089  0.976  -0.25   0.87  -0.30   \n150621  63d34cf48572bb59d0a49dc2  0.104  0.101  0.981   0.69   1.06  -0.02   \n150622  63d34cf48572bb59d0a49dc3  0.035  0.116  1.021   0.25   1.31  -0.02   \n150623  63d34cf48572bb59d0a49dc4 -0.016  0.098  0.996   0.63   0.71   0.18   \n150624  63d34cf48572bb59d0a49dc5 -0.026  0.083  1.010   0.89  -0.63  -0.06   \n\n        ang_x  ang_y   ang_z     seq  \n0        5.97  -2.01   62.99       0  \n1        5.75  -1.59   63.00       0  \n2        5.76  -1.59   63.00       1  \n3        5.76  -1.60   63.00       2  \n4        5.75  -1.61   63.00       3  \n...       ...    ...     ...     ...  \n150620   5.70   3.08 -124.80  150619  \n150621   5.70   3.07 -124.79  150620  \n150622   5.71   3.07 -124.78  150621  \n150623   5.71   3.09 -124.78  150622  \n150624   5.71   3.14 -124.76  150623  \n\n[150625 rows x 11 columns]",
      "text/html": "<div>\n<style scoped>\n    .dataframe tbody tr th:only-of-type {\n        vertical-align: middle;\n    }\n\n    .dataframe tbody tr th {\n        vertical-align: top;\n    }\n\n    .dataframe thead th {\n        text-align: right;\n    }\n</style>\n<table border=\"1\" class=\"dataframe\">\n  <thead>\n    <tr style=\"text-align: right;\">\n      <th></th>\n      <th>_id</th>\n      <th>acc_x</th>\n      <th>acc_y</th>\n      <th>acc_z</th>\n      <th>gyr_x</th>\n      <th>gyr_y</th>\n      <th>gyr_z</th>\n      <th>ang_x</th>\n      <th>ang_y</th>\n      <th>ang_z</th>\n      <th>seq</th>\n    </tr>\n  </thead>\n  <tbody>\n    <tr>\n      <th>0</th>\n      <td>63d3299c009228c97f8bfc0a</td>\n      <td>0.036</td>\n      <td>0.118</td>\n      <td>1.015</td>\n      <td>-0.69</td>\n      <td>-2.61</td>\n      <td>-0.33</td>\n      <td>5.97</td>\n      <td>-2.01</td>\n      <td>62.99</td>\n      <td>0</td>\n    </tr>\n    <tr>\n      <th>1</th>\n      <td>63d329a78572bb59d0a25166</td>\n      <td>-0.030</td>\n      <td>0.105</td>\n      <td>0.979</td>\n      <td>-0.45</td>\n      <td>-1.10</td>\n      <td>0.67</td>\n      <td>5.75</td>\n      <td>-1.59</td>\n      <td>63.00</td>\n      <td>0</td>\n    </tr>\n    <tr>\n      <th>2</th>\n      <td>63d329a78572bb59d0a25167</td>\n      <td>-0.079</td>\n      <td>0.160</td>\n      <td>1.009</td>\n      <td>-0.66</td>\n      <td>-0.96</td>\n      <td>0.64</td>\n      <td>5.76</td>\n      <td>-1.59</td>\n      <td>63.00</td>\n      <td>1</td>\n    </tr>\n    <tr>\n      <th>3</th>\n      <td>63d329a78572bb59d0a25168</td>\n      <td>-0.062</td>\n      <td>0.101</td>\n      <td>1.087</td>\n      <td>-0.44</td>\n      <td>-3.06</td>\n      <td>0.61</td>\n      <td>5.76</td>\n      <td>-1.60</td>\n      <td>63.00</td>\n      <td>2</td>\n    </tr>\n    <tr>\n      <th>4</th>\n      <td>63d329a78572bb59d0a25169</td>\n      <td>0.042</td>\n      <td>0.100</td>\n      <td>1.019</td>\n      <td>-0.25</td>\n      <td>0.72</td>\n      <td>-0.65</td>\n      <td>5.75</td>\n      <td>-1.61</td>\n      <td>63.00</td>\n      <td>3</td>\n    </tr>\n    <tr>\n      <th>...</th>\n      <td>...</td>\n      <td>...</td>\n      <td>...</td>\n      <td>...</td>\n      <td>...</td>\n      <td>...</td>\n      <td>...</td>\n      <td>...</td>\n      <td>...</td>\n      <td>...</td>\n      <td>...</td>\n    </tr>\n    <tr>\n      <th>150620</th>\n      <td>63d34cf48572bb59d0a49dc1</td>\n      <td>0.011</td>\n      <td>0.089</td>\n      <td>0.976</td>\n      <td>-0.25</td>\n      <td>0.87</td>\n      <td>-0.30</td>\n      <td>5.70</td>\n      <td>3.08</td>\n      <td>-124.80</td>\n      <td>150619</td>\n    </tr>\n    <tr>\n      <th>150621</th>\n      <td>63d34cf48572bb59d0a49dc2</td>\n      <td>0.104</td>\n      <td>0.101</td>\n      <td>0.981</td>\n      <td>0.69</td>\n      <td>1.06</td>\n      <td>-0.02</td>\n      <td>5.70</td>\n      <td>3.07</td>\n      <td>-124.79</td>\n      <td>150620</td>\n    </tr>\n    <tr>\n      <th>150622</th>\n      <td>63d34cf48572bb59d0a49dc3</td>\n      <td>0.035</td>\n      <td>0.116</td>\n      <td>1.021</td>\n      <td>0.25</td>\n      <td>1.31</td>\n      <td>-0.02</td>\n      <td>5.71</td>\n      <td>3.07</td>\n      <td>-124.78</td>\n      <td>150621</td>\n    </tr>\n    <tr>\n      <th>150623</th>\n      <td>63d34cf48572bb59d0a49dc4</td>\n      <td>-0.016</td>\n      <td>0.098</td>\n      <td>0.996</td>\n      <td>0.63</td>\n      <td>0.71</td>\n      <td>0.18</td>\n      <td>5.71</td>\n      <td>3.09</td>\n      <td>-124.78</td>\n      <td>150622</td>\n    </tr>\n    <tr>\n      <th>150624</th>\n      <td>63d34cf48572bb59d0a49dc5</td>\n      <td>-0.026</td>\n      <td>0.083</td>\n      <td>1.010</td>\n      <td>0.89</td>\n      <td>-0.63</td>\n      <td>-0.06</td>\n      <td>5.71</td>\n      <td>3.14</td>\n      <td>-124.76</td>\n      <td>150623</td>\n    </tr>\n  </tbody>\n</table>\n<p>150625 rows × 11 columns</p>\n</div>"
     },
     "execution_count": 8,
     "metadata": {},
     "output_type": "execute_result"
    }
   ],
   "source": [
    "pd.DataFrame(data)"
   ],
   "metadata": {
    "collapsed": false,
    "pycharm": {
     "name": "#%%\n"
    }
   }
  },
  {
   "cell_type": "code",
   "execution_count": 13,
   "outputs": [],
   "source": [
    "mydb = client['test']\n",
    "mycol = mydb['data']"
   ],
   "metadata": {
    "collapsed": false,
    "pycharm": {
     "name": "#%%\n"
    }
   }
  },
  {
   "cell_type": "code",
   "execution_count": 15,
   "outputs": [
    {
     "name": "stdout",
     "output_type": "stream",
     "text": [
      "-0.0\n",
      "0.0\n",
      "-0.002\n",
      "0.0\n",
      "0.002\n",
      "0.0\n",
      "-0.003\n",
      "-0.001\n",
      "-0.002\n",
      "0.002\n"
     ]
    }
   ],
   "source": [
    "for d in mycol.find():\n",
    "    print(d['acc_x'])"
   ],
   "metadata": {
    "collapsed": false,
    "pycharm": {
     "name": "#%%\n"
    }
   }
  },
  {
   "cell_type": "markdown",
   "source": [
    "### Data size check"
   ],
   "metadata": {
    "collapsed": false,
    "pycharm": {
     "name": "#%% md\n"
    }
   }
  },
  {
   "cell_type": "code",
   "execution_count": 1,
   "outputs": [],
   "source": [
    "check_data = '1674708847.403180'"
   ],
   "metadata": {
    "collapsed": false,
    "pycharm": {
     "name": "#%%\n"
    }
   }
  },
  {
   "cell_type": "code",
   "execution_count": 5,
   "outputs": [
    {
     "data": {
      "text/plain": "1674708847.40318"
     },
     "execution_count": 5,
     "metadata": {},
     "output_type": "execute_result"
    }
   ],
   "source": [
    "float(check_data)"
   ],
   "metadata": {
    "collapsed": false,
    "pycharm": {
     "name": "#%%\n"
    }
   }
  },
  {
   "cell_type": "code",
   "execution_count": 2,
   "outputs": [],
   "source": [
    "import sys"
   ],
   "metadata": {
    "collapsed": false,
    "pycharm": {
     "name": "#%%\n"
    }
   }
  },
  {
   "cell_type": "code",
   "execution_count": 3,
   "outputs": [
    {
     "data": {
      "text/plain": "66"
     },
     "execution_count": 3,
     "metadata": {},
     "output_type": "execute_result"
    }
   ],
   "source": [
    "sys.getsizeof(check_data)"
   ],
   "metadata": {
    "collapsed": false,
    "pycharm": {
     "name": "#%%\n"
    }
   }
  },
  {
   "cell_type": "code",
   "execution_count": 4,
   "outputs": [
    {
     "data": {
      "text/plain": "24"
     },
     "execution_count": 4,
     "metadata": {},
     "output_type": "execute_result"
    }
   ],
   "source": [
    "sys.getsizeof(float(check_data))"
   ],
   "metadata": {
    "collapsed": false,
    "pycharm": {
     "name": "#%%\n"
    }
   }
  },
  {
   "cell_type": "code",
   "execution_count": 6,
   "outputs": [
    {
     "data": {
      "text/plain": "24"
     },
     "execution_count": 6,
     "metadata": {},
     "output_type": "execute_result"
    }
   ],
   "source": [
    "sys.getsizeof(2.1)"
   ],
   "metadata": {
    "collapsed": false,
    "pycharm": {
     "name": "#%%\n"
    }
   }
  }
 ],
 "metadata": {
  "kernelspec": {
   "display_name": "Python 3",
   "language": "python",
   "name": "python3"
  },
  "language_info": {
   "codemirror_mode": {
    "name": "ipython",
    "version": 2
   },
   "file_extension": ".py",
   "mimetype": "text/x-python",
   "name": "python",
   "nbconvert_exporter": "python",
   "pygments_lexer": "ipython2",
   "version": "2.7.6"
  }
 },
 "nbformat": 4,
 "nbformat_minor": 0
}